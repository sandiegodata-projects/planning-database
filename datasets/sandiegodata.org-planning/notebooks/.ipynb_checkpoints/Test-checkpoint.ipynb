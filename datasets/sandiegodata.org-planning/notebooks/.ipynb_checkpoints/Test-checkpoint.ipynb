{
 "cells": [
  {
   "cell_type": "code",
   "execution_count": 1,
   "metadata": {},
   "outputs": [],
   "source": [
    "import seaborn as sns\n",
    "import metapack as mp\n",
    "import pandas as pd\n",
    "import numpy as np\n",
    "import matplotlib.pyplot as plt\n",
    "from IPython.display import display \n",
    "\n",
    "%matplotlib inline\n",
    "sns.set_context('notebook')\n",
    "mp.jupyter.init()\n"
   ]
  },
  {
   "cell_type": "code",
   "execution_count": 2,
   "metadata": {},
   "outputs": [
    {
     "data": {
      "text/html": [
       "<p><code>sandiegodata.org-planning-1</code> Last Update: 2018-12-11T00:14:03</p>\n",
       "<p>__</p>\n",
       "<h2>Contacts</h2>\n",
       "<ul>\n",
       "<li><strong>Wrangler</strong> <a href=\"mailto:eric@civicknowledge.com\">Eric Busboom</a>, <a href=\"http://civicknowledge.com\">Civic Knowledge</a></li>\n",
       "</ul>\n",
       "<h2>Resources</h2>\n",
       "<ul>\n",
       "<li><strong> <a href=\"data/tracts.csv\">tracts</a></strong>. </li>\n",
       "<li><strong> <a href=\"data/tract_links.csv\">tract_links</a></strong>. </li>\n",
       "<li><strong> <a href=\"data/tract_boundaries.csv\">tract_boundaries</a></strong>. </li>\n",
       "<li><strong> <a href=\"data/community_boundaries.csv\">community_boundaries</a></strong>. </li>\n",
       "<li><strong> <a href=\"data/tract_diabetes.csv\">tract_diabetes</a></strong>. </li>\n",
       "<li><strong> <a href=\"data/hpi.csv\">hpi</a></strong>. </li>\n",
       "<li><strong> <a href=\"data/acs_pdb.csv\">acs_pdb</a></strong>. Planning database for tracts in SD County, ACS columns</li>\n",
       "<li><strong> <a href=\"data/cen10_pdb.csv\">cen10_pdb</a></strong>. Planning database for tracts in SD County, Census 2010 columns</li>\n",
       "</ul>\n",
       "<h2>References</h2>\n",
       "<ul>\n",
       "<li><strong><a href=\"metapack+http://library.metatab.org/sandiegodata.org-planning-tracts-6.csv#planning_db_sd\">planning_db_sd</a></strong>. San Diego county planning database tracts</li>\n",
       "</ul>"
      ],
      "text/plain": [
       "<metapack.doc.MetapackDoc at 0x103559828>"
      ]
     },
     "execution_count": 2,
     "metadata": {},
     "output_type": "execute_result"
    }
   ],
   "source": [
    "pkg = mp.jupyter.open_package()\n",
    "#pkg = mp.jupyter.open_source_package()\n",
    "pkg"
   ]
  },
  {
   "cell_type": "code",
   "execution_count": 4,
   "metadata": {},
   "outputs": [],
   "source": [
    "tracts = pkg.resource('tract_boundaries').geoframe().set_index('geoid')\n",
    "\n",
    "hpi = pkg.resource('hpi').dataframe().set_index('geoid')\n"
   ]
  },
  {
   "cell_type": "code",
   "execution_count": 5,
   "metadata": {},
   "outputs": [],
   "source": [
    "gdf = tracts.join(hpi)"
   ]
  },
  {
   "cell_type": "code",
   "execution_count": 7,
   "metadata": {},
   "outputs": [
    {
     "data": {
      "text/plain": [
       "geometry                    object\n",
       "pop2010                      int64\n",
       "pct2010gq                   object\n",
       "city                        object\n",
       "zip                         object\n",
       "county_fips                  int64\n",
       "county_name                 object\n",
       "urbantype                   object\n",
       "hpi2score                   object\n",
       "hpi2_pctile_pos             object\n",
       "hpi2_pctile_neg             object\n",
       "hpi_top25pct                object\n",
       "quintiles                   object\n",
       "quartiles                   object\n",
       "economic                    object\n",
       "economic_pctile             object\n",
       "education                   object\n",
       "education_pctile            object\n",
       "housing                     object\n",
       "houseing_pctile             object\n",
       "healthcareaccess            object\n",
       "healthcareaccess_pctile     object\n",
       "neighborhood                object\n",
       "neighborhood_pctile         object\n",
       "pollution                   object\n",
       "pollution_pctile            object\n",
       "transportation              object\n",
       "transportation_pctile       object\n",
       "social                      object\n",
       "social_pctile               object\n",
       "                            ...   \n",
       "voting_pctile               object\n",
       "ownsevere                   object\n",
       "ownsevere_pctile            object\n",
       "rentsevere                  object\n",
       "rentsevere_pctile           object\n",
       "houserepair                 object\n",
       "houserepair_pctile          object\n",
       "twoparents                  object\n",
       "twoparents_pctile           object\n",
       "supermkts                   object\n",
       "supermkts_pctile            object\n",
       "ozone                       object\n",
       "ozone_pctile                object\n",
       "pm25                        object\n",
       "pm25_pctile                 object\n",
       "dieselpm                    object\n",
       "dieselpm_pctile             object\n",
       "h20contam                   object\n",
       "h20contam_pctile            object\n",
       "leb                         object\n",
       "leb_pctile                  object\n",
       "white_pct                  float64\n",
       "black_pct                  float64\n",
       "asian_pct                  float64\n",
       "latino_pct                 float64\n",
       "multiple_pct               float64\n",
       "nativeam_pct               float64\n",
       "pacificisl_pct             float64\n",
       "other_pct                    int64\n",
       "version                     object\n",
       "Length: 91, dtype: object"
      ]
     },
     "execution_count": 7,
     "metadata": {},
     "output_type": "execute_result"
    }
   ],
   "source": [
    "gdf.dtypes"
   ]
  },
  {
   "cell_type": "code",
   "execution_count": null,
   "metadata": {},
   "outputs": [],
   "source": []
  }
 ],
 "metadata": {
  "kernelspec": {
   "display_name": "Python 3",
   "language": "python",
   "name": "python3"
  },
  "language_info": {
   "codemirror_mode": {
    "name": "ipython",
    "version": 3
   },
   "file_extension": ".py",
   "mimetype": "text/x-python",
   "name": "python",
   "nbconvert_exporter": "python",
   "pygments_lexer": "ipython3",
   "version": "3.6.5"
  }
 },
 "nbformat": 4,
 "nbformat_minor": 2
}
