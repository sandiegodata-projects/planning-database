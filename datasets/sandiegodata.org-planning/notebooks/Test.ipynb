{
 "cells": [
  {
   "cell_type": "code",
   "execution_count": 1,
   "metadata": {},
   "outputs": [],
   "source": [
    "import seaborn as sns\n",
    "import metapack as mp\n",
    "import pandas as pd\n",
    "import numpy as np\n",
    "import matplotlib.pyplot as plt\n",
    "from IPython.display import display \n",
    "\n",
    "%matplotlib inline\n",
    "sns.set_context('notebook')\n",
    "mp.jupyter.init()\n"
   ]
  },
  {
   "cell_type": "code",
   "execution_count": 2,
   "metadata": {},
   "outputs": [
    {
     "data": {
      "text/html": [
       "<p><code>sandiegodata.org-planning-1</code> Last Update: 2018-12-11T00:14:03</p>\n",
       "<p>__</p>\n",
       "<h2>Contacts</h2>\n",
       "<ul>\n",
       "<li><strong>Wrangler</strong> <a href=\"mailto:eric@civicknowledge.com\">Eric Busboom</a>, <a href=\"http://civicknowledge.com\">Civic Knowledge</a></li>\n",
       "</ul>\n",
       "<h2>Resources</h2>\n",
       "<ul>\n",
       "<li><strong> <a href=\"data/tracts.csv\">tracts</a></strong>. </li>\n",
       "<li><strong> <a href=\"data/tract_links.csv\">tract_links</a></strong>. </li>\n",
       "<li><strong> <a href=\"data/tract_boundaries.csv\">tract_boundaries</a></strong>. </li>\n",
       "<li><strong> <a href=\"data/community_boundaries.csv\">community_boundaries</a></strong>. </li>\n",
       "<li><strong> <a href=\"data/tract_diabetes.csv\">tract_diabetes</a></strong>. </li>\n",
       "<li><strong> <a href=\"data/hpi.csv\">hpi</a></strong>. </li>\n",
       "<li><strong> <a href=\"data/acs_pdb.csv\">acs_pdb</a></strong>. Planning database for tracts in SD County, ACS columns</li>\n",
       "<li><strong> <a href=\"data/cen10_pdb.csv\">cen10_pdb</a></strong>. Planning database for tracts in SD County, Census 2010 columns</li>\n",
       "</ul>\n",
       "<h2>References</h2>\n",
       "<ul>\n",
       "<li><strong><a href=\"metapack+http://library.metatab.org/sandiegodata.org-planning-tracts-6.csv#planning_db_sd\">planning_db_sd</a></strong>. San Diego county planning database tracts</li>\n",
       "</ul>"
      ],
      "text/plain": [
       "<metapack.doc.MetapackDoc at 0x103559828>"
      ]
     },
     "execution_count": 2,
     "metadata": {},
     "output_type": "execute_result"
    }
   ],
   "source": [
    "pkg = mp.jupyter.open_package()\n",
    "#pkg = mp.jupyter.open_source_package()\n",
    "pkg"
   ]
  },
  {
   "cell_type": "code",
   "execution_count": 8,
   "metadata": {},
   "outputs": [
    {
     "data": {
      "text/plain": [
       "geometry                    object\n",
       "pop2010                      int64\n",
       "pct2010gq                  float64\n",
       "city                        object\n",
       "zip                        float64\n",
       "county_fips                  int64\n",
       "county_name                 object\n",
       "urbantype                   object\n",
       "hpi2score                  float64\n",
       "hpi2_pctile_pos            float64\n",
       "hpi2_pctile_neg            float64\n",
       "hpi_top25pct                object\n",
       "quintiles                  float64\n",
       "quartiles                  float64\n",
       "economic                   float64\n",
       "economic_pctile            float64\n",
       "education                  float64\n",
       "education_pctile           float64\n",
       "housing                    float64\n",
       "houseing_pctile            float64\n",
       "healthcareaccess           float64\n",
       "healthcareaccess_pctile    float64\n",
       "neighborhood               float64\n",
       "neighborhood_pctile        float64\n",
       "pollution                  float64\n",
       "pollution_pctile           float64\n",
       "transportation             float64\n",
       "transportation_pctile      float64\n",
       "social                     float64\n",
       "social_pctile              float64\n",
       "                            ...   \n",
       "voting_pctile              float64\n",
       "ownsevere                  float64\n",
       "ownsevere_pctile           float64\n",
       "rentsevere                 float64\n",
       "rentsevere_pctile          float64\n",
       "houserepair                float64\n",
       "houserepair_pctile         float64\n",
       "twoparents                 float64\n",
       "twoparents_pctile          float64\n",
       "supermkts                  float64\n",
       "supermkts_pctile           float64\n",
       "ozone                      float64\n",
       "ozone_pctile               float64\n",
       "pm25                       float64\n",
       "pm25_pctile                float64\n",
       "dieselpm                   float64\n",
       "dieselpm_pctile            float64\n",
       "h20contam                  float64\n",
       "h20contam_pctile           float64\n",
       "leb                        float64\n",
       "leb_pctile                 float64\n",
       "white_pct                  float64\n",
       "black_pct                  float64\n",
       "asian_pct                  float64\n",
       "latino_pct                 float64\n",
       "multiple_pct               float64\n",
       "nativeam_pct               float64\n",
       "pacificisl_pct             float64\n",
       "other_pct                    int64\n",
       "version                     object\n",
       "Length: 91, dtype: object"
      ]
     },
     "execution_count": 8,
     "metadata": {},
     "output_type": "execute_result"
    }
   ],
   "source": [
    "tracts = pkg.resource('tract_boundaries').geoframe().set_index('geoid')\n",
    "\n",
    "hpi = pkg.resource('hpi').read_csv().set_index('geoid')\n",
    "gdf = tracts.join(hpi)\n",
    "gdf.dtypes"
   ]
  }
 ],
 "metadata": {
  "kernelspec": {
   "display_name": "Python 3",
   "language": "python",
   "name": "python3"
  },
  "language_info": {
   "codemirror_mode": {
    "name": "ipython",
    "version": 3
   },
   "file_extension": ".py",
   "mimetype": "text/x-python",
   "name": "python",
   "nbconvert_exporter": "python",
   "pygments_lexer": "ipython3",
   "version": "3.6.5"
  }
 },
 "nbformat": 4,
 "nbformat_minor": 2
}
