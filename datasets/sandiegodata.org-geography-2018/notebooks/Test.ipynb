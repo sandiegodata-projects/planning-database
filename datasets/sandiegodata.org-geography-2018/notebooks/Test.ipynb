{
 "cells": [
  {
   "cell_type": "code",
   "execution_count": 1,
   "metadata": {},
   "outputs": [],
   "source": [
    "import matplotlib.pyplot as plt \n",
    "%matplotlib inline\n",
    "import metapack as mp\n",
    "import pandas as pd\n",
    "import geopandas as gpd\n",
    "import numpy as np\n",
    "import seaborn as sns\n",
    "from rowgenerators import RowGenerator\n"
   ]
  },
  {
   "cell_type": "code",
   "execution_count": 2,
   "metadata": {},
   "outputs": [
    {
     "data": {
      "text/html": [
       "<h1>Community and City and Tract Boundaries in San Diego County</h1>\n",
       "<p><code>sandiegodata.org-geography-2018-1</code> Last Update: 2018-12-10T22:25:47</p>\n",
       "<p><em>Combines  geographic boundary files for communities, cities and tracts in San Diego County.</em></p>\n",
       "<p>This package combines three SANGIS datasets for communities and cities in San Diego county into a single file, in the <code>communities</code> resource, with Census tract definitions for San Diego count. The source files are: </p>\n",
       "<ul>\n",
       "<li>Municipal boundaries, of incorporated cities and the rest of the county</li>\n",
       "<li>Communities in unincorporated county areas</li>\n",
       "<li>Communities in San Diego. </li>\n",
       "<li>Census tract boundaries for 2016</li>\n",
       "</ul>\n",
       "<p>In addition to simply combining these four boundary files, the dataset also\n",
       "links tracts into the other three regions, in the <code>tracts_links</code> and\n",
       "<code>tracts_all_regions</code> datasets. Using these datasets, you can get all of the\n",
       "tracts in Escondido, or all of the tracts in the San Diego community of\n",
       "Clairemont. The join is performed by containment of the Internal Point, which\n",
       "is defined by the census for each tract. Because tract boundaries are not\n",
       "always coincident with municipal boundaries, there are many cases where the\n",
       "collection of tracts for a city or community will have a different boundary\n",
       "than the actual region. Smaller, less densely populated regions, like San\n",
       "Marcos, or particuarly afected.</p>\n",
       "<p>The <code>tracts_links</code> dataset is probably the most useful. It joins tracts to regions,\n",
       "and has two sets of columns, for city and community. This dataset includes\n",
       "every tract in the county, and each appears only once. If a tract is included\n",
       "in both a city and community, then there is a name and code for both the city\n",
       "columns and the community columns. Regions not in a city have a city value of\n",
       "\"County\" and a city code of \"CN\".</p>\n",
       "<p>The <code>communities</code> dataset, has a <code>type</code> field to distinguish the types of area, which is one of: </p>\n",
       "<ul>\n",
       "<li>city</li>\n",
       "<li>county_community</li>\n",
       "<li>sd_community</li>\n",
       "<li>community</li>\n",
       "</ul>\n",
       "<p>The <code>tracts_all_regions</code> dataset may have more than one row for each tract;\n",
       "the tract will appear once for each of the four region types that it is in, but\n",
       "no tract is in more than 2 regions. For instance, a tract in a community of San\n",
       "Diego will appear twice, once for the community, and once for the City.</p>\n",
       "<h2>Documentation Links</h2>\n",
       "<ul>\n",
       "<li><a href=\"doc/Community_Plan_SD.pdf\">San Diego City Community Shapefile Documentation</a> </li>\n",
       "<li><a href=\"doc/Community_Plan_CN.pdf\">San Diego County Community Shapefile Documentation</a> </li>\n",
       "<li><a href=\"doc/Municipal_Boundaries.pdf\">City Boundary Shapefile Documentation</a> </li>\n",
       "</ul>\n",
       "<h2>Contacts</h2>\n",
       "<ul>\n",
       "<li><strong>Wrangler</strong> <a href=\"mailto:eric@civicknowledge.com\">Eric Busboom</a>, <a href=\"http://civicknowledge.com\">Civic Knowledge</a></li>\n",
       "<li><strong>Publisher</strong> <a href=\"mailto:eric@sandiegodata.org\">San Diego Regional Data Library</a>, <a href=\"http://sandieogdata.org\">San Diego Regional Data Library</a></li>\n",
       "</ul>\n",
       "<h2>Resources</h2>\n",
       "<ul>\n",
       "<li><strong> <a href=\"data/tracts.csv\">tracts</a></strong>. Tract census information</li>\n",
       "<li><strong> <a href=\"data/tract_communities.csv\">tract_communities</a></strong>. Link between tracts and cities, communities and county regions, with one record per tract. No geometry.</li>\n",
       "<li><strong> <a href=\"data/tract_boundaries.csv\">tract_boundaries</a></strong>. Tract boundary shapes</li>\n",
       "<li><strong> <a href=\"data/community_boundaries.csv\">community_boundaries</a></strong>. Boundary shapes for all communities and cities combined</li>\n",
       "</ul>\n",
       "<h2>References</h2>\n",
       "<ul>\n",
       "<li><strong><a href=\"censusgeo://2016/5/CA/140\">california_tracts</a></strong>. Tract boundary shapes</li>\n",
       "<li><strong><a href=\"file:data/community-acronyms.csv\">acronyms</a></strong>. Acronyms for communities</li>\n",
       "<li><strong><a href=\"shape+file:data/Municipal_Boundaries.zip\">cities</a></strong>. Converted source of boundaries for cities in San  Diego county</li>\n",
       "<li><strong><a href=\"shape+file:data/Community_Plan_CN.ZIP\">county_communities</a></strong>. Converted source of boundaries for communities in unincorporated  San  Diego county</li>\n",
       "<li><strong><a href=\"shape+file:data/Community_Plan_SD.zip\">sd_communities</a></strong>. Converted source of boundaries for communities in the city of  San  Diego.</li>\n",
       "</ul>"
      ],
      "text/plain": [
       "<metapack.doc.MetapackDoc at 0x126f3c240>"
      ]
     },
     "execution_count": 2,
     "metadata": {},
     "output_type": "execute_result"
    }
   ],
   "source": [
    "#pkg = mp.open_package('http://library.metatab.org/sandiegodata.org-communities-2018-3.zip')\n",
    "pkg = mp.jupyter.open_package()\n",
    "pkg"
   ]
  },
  {
   "cell_type": "code",
   "execution_count": 3,
   "metadata": {},
   "outputs": [
    {
     "data": {
      "text/html": [
       "<div>\n",
       "<style scoped>\n",
       "    .dataframe tbody tr th:only-of-type {\n",
       "        vertical-align: middle;\n",
       "    }\n",
       "\n",
       "    .dataframe tbody tr th {\n",
       "        vertical-align: top;\n",
       "    }\n",
       "\n",
       "    .dataframe thead th {\n",
       "        text-align: right;\n",
       "    }\n",
       "</style>\n",
       "<table border=\"1\" class=\"dataframe\">\n",
       "  <thead>\n",
       "    <tr style=\"text-align: right;\">\n",
       "      <th></th>\n",
       "      <th>geometry</th>\n",
       "    </tr>\n",
       "    <tr>\n",
       "      <th>geoid</th>\n",
       "      <th></th>\n",
       "    </tr>\n",
       "  </thead>\n",
       "  <tbody>\n",
       "    <tr>\n",
       "      <th>14000US06073000100</th>\n",
       "      <td>POLYGON ((-117.194904 32.75278, -117.19471 32....</td>\n",
       "    </tr>\n",
       "    <tr>\n",
       "      <th>14000US06073000201</th>\n",
       "      <td>POLYGON ((-117.178867 32.75765, -117.177966 32...</td>\n",
       "    </tr>\n",
       "    <tr>\n",
       "      <th>14000US06073000202</th>\n",
       "      <td>POLYGON ((-117.184043 32.74571, -117.183827 32...</td>\n",
       "    </tr>\n",
       "    <tr>\n",
       "      <th>14000US06073000300</th>\n",
       "      <td>POLYGON ((-117.168645 32.748968, -117.168404 3...</td>\n",
       "    </tr>\n",
       "    <tr>\n",
       "      <th>14000US06073000400</th>\n",
       "      <td>POLYGON ((-117.170867 32.75865, -117.170187 32...</td>\n",
       "    </tr>\n",
       "  </tbody>\n",
       "</table>\n",
       "</div>"
      ],
      "text/plain": [
       "                                                             geometry\n",
       "geoid                                                                \n",
       "14000US06073000100  POLYGON ((-117.194904 32.75278, -117.19471 32....\n",
       "14000US06073000201  POLYGON ((-117.178867 32.75765, -117.177966 32...\n",
       "14000US06073000202  POLYGON ((-117.184043 32.74571, -117.183827 32...\n",
       "14000US06073000300  POLYGON ((-117.168645 32.748968, -117.168404 3...\n",
       "14000US06073000400  POLYGON ((-117.170867 32.75865, -117.170187 32..."
      ]
     },
     "execution_count": 3,
     "metadata": {},
     "output_type": "execute_result"
    }
   ],
   "source": [
    "tracts = pkg.resource('tract_boundaries').geoframe().set_index('geoid')\n",
    "tracts.head()"
   ]
  },
  {
   "cell_type": "code",
   "execution_count": 4,
   "metadata": {},
   "outputs": [
    {
     "data": {
      "text/plain": [
       "<matplotlib.axes._subplots.AxesSubplot at 0x105780668>"
      ]
     },
     "execution_count": 4,
     "metadata": {},
     "output_type": "execute_result"
    },
    {
     "data": {
      "image/png": "[encoded data removed]",
      "text/plain": [
       "<Figure size 432x288 with 1 Axes>"
      ]
     },
     "metadata": {
      "needs_background": "light"
     },
     "output_type": "display_data"
    }
   ],
   "source": [
    "tracts.plot()"
   ]
  },
  {
   "cell_type": "code",
   "execution_count": 5,
   "metadata": {},
   "outputs": [
    {
     "data": {
      "text/html": [
       "<div>\n",
       "<style scoped>\n",
       "    .dataframe tbody tr th:only-of-type {\n",
       "        vertical-align: middle;\n",
       "    }\n",
       "\n",
       "    .dataframe tbody tr th {\n",
       "        vertical-align: top;\n",
       "    }\n",
       "\n",
       "    .dataframe thead th {\n",
       "        text-align: right;\n",
       "    }\n",
       "</style>\n",
       "<table border=\"1\" class=\"dataframe\">\n",
       "  <thead>\n",
       "    <tr style=\"text-align: right;\">\n",
       "      <th></th>\n",
       "      <th>statefp</th>\n",
       "      <th>countyfp</th>\n",
       "      <th>tractce</th>\n",
       "      <th>name</th>\n",
       "      <th>namelsad</th>\n",
       "      <th>mtfcc</th>\n",
       "      <th>funcstat</th>\n",
       "      <th>aland</th>\n",
       "      <th>awater</th>\n",
       "      <th>intptlat</th>\n",
       "      <th>intptlon</th>\n",
       "    </tr>\n",
       "    <tr>\n",
       "      <th>geoid</th>\n",
       "      <th></th>\n",
       "      <th></th>\n",
       "      <th></th>\n",
       "      <th></th>\n",
       "      <th></th>\n",
       "      <th></th>\n",
       "      <th></th>\n",
       "      <th></th>\n",
       "      <th></th>\n",
       "      <th></th>\n",
       "      <th></th>\n",
       "    </tr>\n",
       "  </thead>\n",
       "  <tbody>\n",
       "    <tr>\n",
       "      <th>14000US06073000100</th>\n",
       "      <td>6</td>\n",
       "      <td>73</td>\n",
       "      <td>100</td>\n",
       "      <td>1.00</td>\n",
       "      <td>Census Tract 1</td>\n",
       "      <td>G5020</td>\n",
       "      <td>S</td>\n",
       "      <td>1541456</td>\n",
       "      <td>0</td>\n",
       "      <td>32.753005</td>\n",
       "      <td>-117.185895</td>\n",
       "    </tr>\n",
       "    <tr>\n",
       "      <th>14000US06073000201</th>\n",
       "      <td>6</td>\n",
       "      <td>73</td>\n",
       "      <td>201</td>\n",
       "      <td>2.01</td>\n",
       "      <td>Census Tract 2.01</td>\n",
       "      <td>G5020</td>\n",
       "      <td>S</td>\n",
       "      <td>864211</td>\n",
       "      <td>0</td>\n",
       "      <td>32.754003</td>\n",
       "      <td>-117.173377</td>\n",
       "    </tr>\n",
       "    <tr>\n",
       "      <th>14000US06073000202</th>\n",
       "      <td>6</td>\n",
       "      <td>73</td>\n",
       "      <td>202</td>\n",
       "      <td>2.02</td>\n",
       "      <td>Census Tract 2.02</td>\n",
       "      <td>G5020</td>\n",
       "      <td>S</td>\n",
       "      <td>1305999</td>\n",
       "      <td>0</td>\n",
       "      <td>32.745395</td>\n",
       "      <td>-117.175154</td>\n",
       "    </tr>\n",
       "    <tr>\n",
       "      <th>14000US06073000300</th>\n",
       "      <td>6</td>\n",
       "      <td>73</td>\n",
       "      <td>300</td>\n",
       "      <td>3.00</td>\n",
       "      <td>Census Tract 3</td>\n",
       "      <td>G5020</td>\n",
       "      <td>S</td>\n",
       "      <td>898761</td>\n",
       "      <td>0</td>\n",
       "      <td>32.744783</td>\n",
       "      <td>-117.162303</td>\n",
       "    </tr>\n",
       "    <tr>\n",
       "      <th>14000US06073000400</th>\n",
       "      <td>6</td>\n",
       "      <td>73</td>\n",
       "      <td>400</td>\n",
       "      <td>4.00</td>\n",
       "      <td>Census Tract 4</td>\n",
       "      <td>G5020</td>\n",
       "      <td>S</td>\n",
       "      <td>1177452</td>\n",
       "      <td>0</td>\n",
       "      <td>32.753338</td>\n",
       "      <td>-117.163070</td>\n",
       "    </tr>\n",
       "  </tbody>\n",
       "</table>\n",
       "</div>"
      ],
      "text/plain": [
       "                    statefp  countyfp  tractce  name           namelsad  \\\n",
       "geoid                                                                     \n",
       "14000US06073000100        6        73      100  1.00     Census Tract 1   \n",
       "14000US06073000201        6        73      201  2.01  Census Tract 2.01   \n",
       "14000US06073000202        6        73      202  2.02  Census Tract 2.02   \n",
       "14000US06073000300        6        73      300  3.00     Census Tract 3   \n",
       "14000US06073000400        6        73      400  4.00     Census Tract 4   \n",
       "\n",
       "                    mtfcc funcstat    aland  awater   intptlat    intptlon  \n",
       "geoid                                                                       \n",
       "14000US06073000100  G5020        S  1541456       0  32.753005 -117.185895  \n",
       "14000US06073000201  G5020        S   864211       0  32.754003 -117.173377  \n",
       "14000US06073000202  G5020        S  1305999       0  32.745395 -117.175154  \n",
       "14000US06073000300  G5020        S   898761       0  32.744783 -117.162303  \n",
       "14000US06073000400  G5020        S  1177452       0  32.753338 -117.163070  "
      ]
     },
     "execution_count": 5,
     "metadata": {},
     "output_type": "execute_result"
    }
   ],
   "source": [
    "tract_info = pkg.resource('tracts').dataframe().set_index('geoid')\n",
    "tract_info.head()"
   ]
  },
  {
   "cell_type": "code",
   "execution_count": 6,
   "metadata": {},
   "outputs": [
    {
     "data": {
      "text/plain": [
       "PosixPath('/Users/eric/proj/virt-proj/planning/planning-database/datasets/sandiegodata.org-geography-2018/_packages/sandiegodata.org-geography-2018-1/data/tract_communities.csv')"
      ]
     },
     "execution_count": 6,
     "metadata": {},
     "output_type": "execute_result"
    }
   ],
   "source": [
    "pkg.resource('tract_communities').expanded_url.fspath"
   ]
  },
  {
   "cell_type": "code",
   "execution_count": 7,
   "metadata": {},
   "outputs": [
    {
     "data": {
      "text/html": [
       "<div>\n",
       "<style scoped>\n",
       "    .dataframe tbody tr th:only-of-type {\n",
       "        vertical-align: middle;\n",
       "    }\n",
       "\n",
       "    .dataframe tbody tr th {\n",
       "        vertical-align: top;\n",
       "    }\n",
       "\n",
       "    .dataframe thead th {\n",
       "        text-align: right;\n",
       "    }\n",
       "</style>\n",
       "<table border=\"1\" class=\"dataframe\">\n",
       "  <thead>\n",
       "    <tr style=\"text-align: right;\">\n",
       "      <th></th>\n",
       "      <th>geoid</th>\n",
       "      <th>city_name</th>\n",
       "      <th>city_code</th>\n",
       "      <th>community_name</th>\n",
       "      <th>community_cpcode</th>\n",
       "      <th>community_code</th>\n",
       "    </tr>\n",
       "  </thead>\n",
       "  <tbody>\n",
       "    <tr>\n",
       "      <th>0</th>\n",
       "      <td>14000US06073020207</td>\n",
       "      <td>Escondido</td>\n",
       "      <td>ES</td>\n",
       "      <td>NaN</td>\n",
       "      <td>0</td>\n",
       "      <td>NaN</td>\n",
       "    </tr>\n",
       "    <tr>\n",
       "      <th>1</th>\n",
       "      <td>14000US06073020211</td>\n",
       "      <td>Escondido</td>\n",
       "      <td>ES</td>\n",
       "      <td>NaN</td>\n",
       "      <td>0</td>\n",
       "      <td>NaN</td>\n",
       "    </tr>\n",
       "    <tr>\n",
       "      <th>2</th>\n",
       "      <td>14000US06073020209</td>\n",
       "      <td>Escondido</td>\n",
       "      <td>ES</td>\n",
       "      <td>NaN</td>\n",
       "      <td>0</td>\n",
       "      <td>NaN</td>\n",
       "    </tr>\n",
       "    <tr>\n",
       "      <th>3</th>\n",
       "      <td>14000US06073020206</td>\n",
       "      <td>Escondido</td>\n",
       "      <td>ES</td>\n",
       "      <td>NaN</td>\n",
       "      <td>0</td>\n",
       "      <td>NaN</td>\n",
       "    </tr>\n",
       "    <tr>\n",
       "      <th>4</th>\n",
       "      <td>14000US06073020210</td>\n",
       "      <td>Escondido</td>\n",
       "      <td>ES</td>\n",
       "      <td>NaN</td>\n",
       "      <td>0</td>\n",
       "      <td>NaN</td>\n",
       "    </tr>\n",
       "  </tbody>\n",
       "</table>\n",
       "</div>"
      ],
      "text/plain": [
       "                geoid  city_name city_code community_name  community_cpcode  \\\n",
       "0  14000US06073020207  Escondido        ES            NaN                 0   \n",
       "1  14000US06073020211  Escondido        ES            NaN                 0   \n",
       "2  14000US06073020209  Escondido        ES            NaN                 0   \n",
       "3  14000US06073020206  Escondido        ES            NaN                 0   \n",
       "4  14000US06073020210  Escondido        ES            NaN                 0   \n",
       "\n",
       "  community_code  \n",
       "0            NaN  \n",
       "1            NaN  \n",
       "2            NaN  \n",
       "3            NaN  \n",
       "4            NaN  "
      ]
     },
     "execution_count": 7,
     "metadata": {},
     "output_type": "execute_result"
    }
   ],
   "source": [
    "\n",
    "\n"
   ]
  },
  {
   "cell_type": "code",
   "execution_count": 23,
   "metadata": {},
   "outputs": [
    {
     "data": {
      "text/html": [
       "<div>\n",
       "<style scoped>\n",
       "    .dataframe tbody tr th:only-of-type {\n",
       "        vertical-align: middle;\n",
       "    }\n",
       "\n",
       "    .dataframe tbody tr th {\n",
       "        vertical-align: top;\n",
       "    }\n",
       "\n",
       "    .dataframe thead th {\n",
       "        text-align: right;\n",
       "    }\n",
       "</style>\n",
       "<table border=\"1\" class=\"dataframe\">\n",
       "  <thead>\n",
       "    <tr style=\"text-align: right;\">\n",
       "      <th></th>\n",
       "      <th>city_name</th>\n",
       "      <th>city_code</th>\n",
       "      <th>community_name</th>\n",
       "      <th>community_cpcode</th>\n",
       "      <th>community_code</th>\n",
       "    </tr>\n",
       "    <tr>\n",
       "      <th>geoid</th>\n",
       "      <th></th>\n",
       "      <th></th>\n",
       "      <th></th>\n",
       "      <th></th>\n",
       "      <th></th>\n",
       "    </tr>\n",
       "  </thead>\n",
       "  <tbody>\n",
       "    <tr>\n",
       "      <th>14000US06073020207</th>\n",
       "      <td>Escondido</td>\n",
       "      <td>ES</td>\n",
       "      <td>NA</td>\n",
       "      <td>0</td>\n",
       "      <td>NA</td>\n",
       "    </tr>\n",
       "    <tr>\n",
       "      <th>14000US06073020211</th>\n",
       "      <td>Escondido</td>\n",
       "      <td>ES</td>\n",
       "      <td>NA</td>\n",
       "      <td>0</td>\n",
       "      <td>NA</td>\n",
       "    </tr>\n",
       "    <tr>\n",
       "      <th>14000US06073020209</th>\n",
       "      <td>Escondido</td>\n",
       "      <td>ES</td>\n",
       "      <td>NA</td>\n",
       "      <td>0</td>\n",
       "      <td>NA</td>\n",
       "    </tr>\n",
       "    <tr>\n",
       "      <th>14000US06073020206</th>\n",
       "      <td>Escondido</td>\n",
       "      <td>ES</td>\n",
       "      <td>NA</td>\n",
       "      <td>0</td>\n",
       "      <td>NA</td>\n",
       "    </tr>\n",
       "    <tr>\n",
       "      <th>14000US06073020210</th>\n",
       "      <td>Escondido</td>\n",
       "      <td>ES</td>\n",
       "      <td>NA</td>\n",
       "      <td>0</td>\n",
       "      <td>NA</td>\n",
       "    </tr>\n",
       "  </tbody>\n",
       "</table>\n",
       "</div>"
      ],
      "text/plain": [
       "                    city_name city_code community_name  community_cpcode  \\\n",
       "geoid                                                                      \n",
       "14000US06073020207  Escondido        ES             NA                 0   \n",
       "14000US06073020211  Escondido        ES             NA                 0   \n",
       "14000US06073020209  Escondido        ES             NA                 0   \n",
       "14000US06073020206  Escondido        ES             NA                 0   \n",
       "14000US06073020210  Escondido        ES             NA                 0   \n",
       "\n",
       "                   community_code  \n",
       "geoid                              \n",
       "14000US06073020207             NA  \n",
       "14000US06073020211             NA  \n",
       "14000US06073020209             NA  \n",
       "14000US06073020206             NA  \n",
       "14000US06073020210             NA  "
      ]
     },
     "execution_count": 23,
     "metadata": {},
     "output_type": "execute_result"
    }
   ],
   "source": [
    "tract_com = pkg.resource('tract_communities').dataframe().set_index('geoid')\n",
    "tract_com.head()"
   ]
  },
  {
   "cell_type": "code",
   "execution_count": 24,
   "metadata": {},
   "outputs": [
    {
     "data": {
      "text/html": [
       "<div>\n",
       "<style scoped>\n",
       "    .dataframe tbody tr th:only-of-type {\n",
       "        vertical-align: middle;\n",
       "    }\n",
       "\n",
       "    .dataframe tbody tr th {\n",
       "        vertical-align: top;\n",
       "    }\n",
       "\n",
       "    .dataframe thead th {\n",
       "        text-align: right;\n",
       "    }\n",
       "</style>\n",
       "<table border=\"1\" class=\"dataframe\">\n",
       "  <thead>\n",
       "    <tr style=\"text-align: right;\">\n",
       "      <th></th>\n",
       "      <th>geometry</th>\n",
       "      <th>city_name</th>\n",
       "      <th>city_code</th>\n",
       "      <th>community_name</th>\n",
       "      <th>community_cpcode</th>\n",
       "      <th>community_code</th>\n",
       "    </tr>\n",
       "    <tr>\n",
       "      <th>geoid</th>\n",
       "      <th></th>\n",
       "      <th></th>\n",
       "      <th></th>\n",
       "      <th></th>\n",
       "      <th></th>\n",
       "      <th></th>\n",
       "    </tr>\n",
       "  </thead>\n",
       "  <tbody>\n",
       "    <tr>\n",
       "      <th>14000US06073000100</th>\n",
       "      <td>POLYGON ((-117.194904 32.75278, -117.19471 32....</td>\n",
       "      <td>San Diego</td>\n",
       "      <td>SD</td>\n",
       "      <td>Uptown</td>\n",
       "      <td>42.0</td>\n",
       "      <td>UPT</td>\n",
       "    </tr>\n",
       "    <tr>\n",
       "      <th>14000US06073000201</th>\n",
       "      <td>POLYGON ((-117.178867 32.75765, -117.177966 32...</td>\n",
       "      <td>San Diego</td>\n",
       "      <td>SD</td>\n",
       "      <td>Uptown</td>\n",
       "      <td>42.0</td>\n",
       "      <td>UPT</td>\n",
       "    </tr>\n",
       "    <tr>\n",
       "      <th>14000US06073000202</th>\n",
       "      <td>POLYGON ((-117.184043 32.74571, -117.183827 32...</td>\n",
       "      <td>San Diego</td>\n",
       "      <td>SD</td>\n",
       "      <td>Uptown</td>\n",
       "      <td>42.0</td>\n",
       "      <td>UPT</td>\n",
       "    </tr>\n",
       "    <tr>\n",
       "      <th>14000US06073000300</th>\n",
       "      <td>POLYGON ((-117.168645 32.748968, -117.168404 3...</td>\n",
       "      <td>San Diego</td>\n",
       "      <td>SD</td>\n",
       "      <td>Uptown</td>\n",
       "      <td>42.0</td>\n",
       "      <td>UPT</td>\n",
       "    </tr>\n",
       "    <tr>\n",
       "      <th>14000US06073000400</th>\n",
       "      <td>POLYGON ((-117.170867 32.75865, -117.170187 32...</td>\n",
       "      <td>San Diego</td>\n",
       "      <td>SD</td>\n",
       "      <td>Uptown</td>\n",
       "      <td>42.0</td>\n",
       "      <td>UPT</td>\n",
       "    </tr>\n",
       "  </tbody>\n",
       "</table>\n",
       "</div>"
      ],
      "text/plain": [
       "                                                             geometry  \\\n",
       "geoid                                                                   \n",
       "14000US06073000100  POLYGON ((-117.194904 32.75278, -117.19471 32....   \n",
       "14000US06073000201  POLYGON ((-117.178867 32.75765, -117.177966 32...   \n",
       "14000US06073000202  POLYGON ((-117.184043 32.74571, -117.183827 32...   \n",
       "14000US06073000300  POLYGON ((-117.168645 32.748968, -117.168404 3...   \n",
       "14000US06073000400  POLYGON ((-117.170867 32.75865, -117.170187 32...   \n",
       "\n",
       "                    city_name city_code community_name  community_cpcode  \\\n",
       "geoid                                                                      \n",
       "14000US06073000100  San Diego        SD         Uptown              42.0   \n",
       "14000US06073000201  San Diego        SD         Uptown              42.0   \n",
       "14000US06073000202  San Diego        SD         Uptown              42.0   \n",
       "14000US06073000300  San Diego        SD         Uptown              42.0   \n",
       "14000US06073000400  San Diego        SD         Uptown              42.0   \n",
       "\n",
       "                   community_code  \n",
       "geoid                              \n",
       "14000US06073000100            UPT  \n",
       "14000US06073000201            UPT  \n",
       "14000US06073000202            UPT  \n",
       "14000US06073000300            UPT  \n",
       "14000US06073000400            UPT  "
      ]
     },
     "execution_count": 24,
     "metadata": {},
     "output_type": "execute_result"
    }
   ],
   "source": [
    "tj = tracts.join(tract_com)\n",
    "tj.head()"
   ]
  },
  {
   "cell_type": "code",
   "execution_count": 26,
   "metadata": {},
   "outputs": [
    {
     "data": {
      "text/plain": [
       "<class 'str'>    628\n",
       "Name: city_code, dtype: int64"
      ]
     },
     "execution_count": 26,
     "metadata": {},
     "output_type": "execute_result"
    }
   ],
   "source": [
    "tj.fillna('NA').city_code.apply(lambda v: type(v)).value_counts()"
   ]
  },
  {
   "cell_type": "code",
   "execution_count": 28,
   "metadata": {},
   "outputs": [
    {
     "data": {
      "text/plain": [
       "<matplotlib.axes._subplots.AxesSubplot at 0x12a9c4d30>"
      ]
     },
     "execution_count": 28,
     "metadata": {},
     "output_type": "execute_result"
    },
    {
     "data": {
      "image/png": "[encoded data removed]",
      "text/plain": [
       "<Figure size 432x288 with 1 Axes>"
      ]
     },
     "metadata": {
      "needs_background": "light"
     },
     "output_type": "display_data"
    }
   ],
   "source": [
    "tj.fillna('NA').plot(column='city_code')"
   ]
  },
  {
   "cell_type": "code",
   "execution_count": null,
   "metadata": {},
   "outputs": [],
   "source": [
    "tj.fillna('').plot(column='community_code')"
   ]
  },
  {
   "cell_type": "code",
   "execution_count": null,
   "metadata": {},
   "outputs": [],
   "source": []
  },
  {
   "cell_type": "code",
   "execution_count": null,
   "metadata": {},
   "outputs": [],
   "source": []
  }
 ],
 "metadata": {
  "kernelspec": {
   "display_name": "Python 3",
   "language": "python",
   "name": "python3"
  },
  "language_info": {
   "codemirror_mode": {
    "name": "ipython",
    "version": 3
   },
   "file_extension": ".py",
   "mimetype": "text/x-python",
   "name": "python",
   "nbconvert_exporter": "python",
   "pygments_lexer": "ipython3",
   "version": "3.6.5"
  }
 },
 "nbformat": 4,
 "nbformat_minor": 2
}
